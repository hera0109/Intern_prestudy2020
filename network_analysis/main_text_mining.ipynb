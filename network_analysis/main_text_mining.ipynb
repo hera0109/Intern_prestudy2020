{
 "cells": [
  {
   "cell_type": "code",
   "execution_count": 1,
   "metadata": {},
   "outputs": [],
   "source": [
    "import sys\n",
    "import parse as p\n",
    "import author_network as an\n",
    "import text_mining as tm\n",
    "import numpy as np\n",
    "import networkx as nx\n",
    "import graphviz as gv\n",
    "from matplotlib import pyplot as plt\n",
    "from community import community_louvain\n",
    "import collections\n",
    "from node2vec import Node2Vec\n",
    "p.parse_json('../data/nips2019.json')"
   ]
  },
  {
   "cell_type": "code",
   "execution_count": 2,
   "metadata": {},
   "outputs": [
    {
     "name": "stderr",
     "output_type": "stream",
     "text": [
      "[nltk_data] Downloading package stopwords to\n",
      "[nltk_data]     /Users/junhee/nltk_data...\n",
      "[nltk_data]   Unzipping corpora/stopwords.zip.\n"
     ]
    }
   ],
   "source": [
    "from sklearn.feature_extraction.text import TfidfVectorizer\n",
    "import nltk\n",
    "nltk.download(\"stopwords\")\n",
    "X = tm.get_abstracts()\n",
    "tfidf_vectorizer = TfidfVectorizer(stop_words='english')\n",
    "tfidf_matrix = tfidf_vectorizer.fit_transform(X)"
   ]
  },
  {
   "cell_type": "code",
   "execution_count": 5,
   "metadata": {},
   "outputs": [
    {
     "name": "stdout",
     "output_type": "stream",
     "text": [
      "  (0, 4929)\t0.09937400910549402\n",
      "  (0, 3990)\t0.06257817309225865\n",
      "  (0, 9917)\t0.1216489957452932\n",
      "  (0, 4338)\t0.06406899057734755\n",
      "  (0, 910)\t0.05457491445771047\n",
      "  (0, 7245)\t0.08386708311011576\n",
      "  (0, 7134)\t0.09285899316132039\n",
      "  (0, 1643)\t0.058630703153565916\n",
      "  (0, 9598)\t0.1105115024253936\n",
      "  (0, 4534)\t0.06960988971135611\n",
      "  (0, 7105)\t0.07092229283484436\n",
      "  (0, 9331)\t0.07750652455977573\n",
      "  (0, 1485)\t0.08726239897542933\n",
      "  (0, 7792)\t0.08465104377929843\n",
      "  (0, 5891)\t0.1216489957452932\n",
      "  (0, 3026)\t0.0584723963914565\n",
      "  (0, 7814)\t0.03554148168323895\n",
      "  (0, 7575)\t0.06030596973270144\n",
      "  (0, 4562)\t0.05408796790865463\n",
      "  (0, 8256)\t0.04649104296159639\n",
      "  (0, 2832)\t0.07351355045939882\n",
      "  (0, 7174)\t0.0416828062177655\n",
      "  (0, 3326)\t0.060663051236354064\n",
      "  (0, 375)\t0.07868075818376029\n",
      "  (0, 3586)\t0.06320023812099798\n",
      "  :\t:\n",
      "  (1426, 5871)\t0.0649160424383125\n",
      "  (1426, 9266)\t0.04336454674085342\n",
      "  (1426, 126)\t0.11373773377605913\n",
      "  (1426, 6475)\t0.05831659107566701\n",
      "  (1426, 3024)\t0.059852380931124674\n",
      "  (1426, 5467)\t0.05068882337653487\n",
      "  (1426, 6109)\t0.08446733053673355\n",
      "  (1426, 6476)\t0.0649160424383125\n",
      "  (1426, 8324)\t0.06396095511214162\n",
      "  (1426, 5185)\t0.19244325176051819\n",
      "  (1426, 9209)\t0.05103412028833001\n",
      "  (1426, 677)\t0.04097821005422115\n",
      "  (1426, 8288)\t0.08692755315345241\n",
      "  (1426, 6112)\t0.03927454031376484\n",
      "  (1426, 1743)\t0.05728041833094728\n",
      "  (1426, 996)\t0.03458923095083925\n",
      "  (1426, 5151)\t0.06768220125085686\n",
      "  (1426, 4562)\t0.05753363208538073\n",
      "  (1426, 7173)\t0.03263917679302618\n",
      "  (1426, 8857)\t0.08491445075906498\n",
      "  (1426, 5299)\t0.09385760700564193\n",
      "  (1426, 6698)\t0.0384197814188007\n",
      "  (1426, 5876)\t0.03740814796876315\n",
      "  (1426, 6238)\t0.044338201820952675\n",
      "  (1426, 8366)\t0.06745278014432862\n"
     ]
    }
   ],
   "source": [
    "print(tfidf_matrix)"
   ]
  },
  {
   "cell_type": "code",
   "execution_count": 6,
   "metadata": {},
   "outputs": [
    {
     "name": "stdout",
     "output_type": "stream",
     "text": [
      "TfidfVectorizer(analyzer='word', binary=False, decode_error='strict',\n",
      "                dtype=<class 'numpy.float64'>, encoding='utf-8',\n",
      "                input='content', lowercase=True, max_df=1.0, max_features=None,\n",
      "                min_df=1, ngram_range=(1, 1), norm='l2', preprocessor=None,\n",
      "                smooth_idf=True, stop_words='english', strip_accents=None,\n",
      "                sublinear_tf=False, token_pattern='(?u)\\\\b\\\\w\\\\w+\\\\b',\n",
      "                tokenizer=None, use_idf=True, vocabulary=None)\n"
     ]
    }
   ],
   "source": [
    "print(tfidf_vectorizer)"
   ]
  },
  {
   "cell_type": "code",
   "execution_count": null,
   "metadata": {},
   "outputs": [],
   "source": []
  }
 ],
 "metadata": {
  "kernelspec": {
   "display_name": "Python 3",
   "language": "python",
   "name": "python3"
  },
  "language_info": {
   "codemirror_mode": {
    "name": "ipython",
    "version": 3
   },
   "file_extension": ".py",
   "mimetype": "text/x-python",
   "name": "python",
   "nbconvert_exporter": "python",
   "pygments_lexer": "ipython3",
   "version": "3.7.6"
  }
 },
 "nbformat": 4,
 "nbformat_minor": 4
}
